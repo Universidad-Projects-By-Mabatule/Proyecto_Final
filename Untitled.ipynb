{
 "cells": [
  {
   "cell_type": "code",
   "execution_count": 19,
   "metadata": {},
   "outputs": [],
   "source": [
    "import pandas as pd\n",
    "import seaborn as sns"
   ]
  },
  {
   "cell_type": "code",
   "execution_count": 20,
   "metadata": {},
   "outputs": [],
   "source": [
    "df=pd.read_csv('dataset.csv')"
   ]
  },
  {
   "cell_type": "code",
   "execution_count": 21,
   "metadata": {},
   "outputs": [
    {
     "data": {
      "text/plain": [
       "pandas.core.frame.DataFrame"
      ]
     },
     "execution_count": 21,
     "metadata": {},
     "output_type": "execute_result"
    }
   ],
   "source": [
    "type(df)"
   ]
  },
  {
   "cell_type": "code",
   "execution_count": 22,
   "metadata": {},
   "outputs": [
    {
     "data": {
      "text/html": [
       "<div>\n",
       "<style scoped>\n",
       "    .dataframe tbody tr th:only-of-type {\n",
       "        vertical-align: middle;\n",
       "    }\n",
       "\n",
       "    .dataframe tbody tr th {\n",
       "        vertical-align: top;\n",
       "    }\n",
       "\n",
       "    .dataframe thead th {\n",
       "        text-align: right;\n",
       "    }\n",
       "</style>\n",
       "<table border=\"1\" class=\"dataframe\">\n",
       "  <thead>\n",
       "    <tr style=\"text-align: right;\">\n",
       "      <th></th>\n",
       "      <th>distancia</th>\n",
       "      <th>__dt</th>\n",
       "    </tr>\n",
       "  </thead>\n",
       "  <tbody>\n",
       "    <tr>\n",
       "      <th>0</th>\n",
       "      <td>2</td>\n",
       "      <td>2021-05-30 00:00:00.000</td>\n",
       "    </tr>\n",
       "    <tr>\n",
       "      <th>1</th>\n",
       "      <td>2</td>\n",
       "      <td>2021-05-30 00:00:00.000</td>\n",
       "    </tr>\n",
       "    <tr>\n",
       "      <th>2</th>\n",
       "      <td>2</td>\n",
       "      <td>2021-05-30 00:00:00.000</td>\n",
       "    </tr>\n",
       "    <tr>\n",
       "      <th>3</th>\n",
       "      <td>6</td>\n",
       "      <td>2021-05-30 00:00:00.000</td>\n",
       "    </tr>\n",
       "    <tr>\n",
       "      <th>4</th>\n",
       "      <td>6</td>\n",
       "      <td>2021-05-30 00:00:00.000</td>\n",
       "    </tr>\n",
       "    <tr>\n",
       "      <th>...</th>\n",
       "      <td>...</td>\n",
       "      <td>...</td>\n",
       "    </tr>\n",
       "    <tr>\n",
       "      <th>161</th>\n",
       "      <td>5</td>\n",
       "      <td>2021-05-30 00:00:00.000</td>\n",
       "    </tr>\n",
       "    <tr>\n",
       "      <th>162</th>\n",
       "      <td>5</td>\n",
       "      <td>2021-05-30 00:00:00.000</td>\n",
       "    </tr>\n",
       "    <tr>\n",
       "      <th>163</th>\n",
       "      <td>7</td>\n",
       "      <td>2021-05-30 00:00:00.000</td>\n",
       "    </tr>\n",
       "    <tr>\n",
       "      <th>164</th>\n",
       "      <td>6</td>\n",
       "      <td>2021-05-30 00:00:00.000</td>\n",
       "    </tr>\n",
       "    <tr>\n",
       "      <th>165</th>\n",
       "      <td>6</td>\n",
       "      <td>2021-05-30 00:00:00.000</td>\n",
       "    </tr>\n",
       "  </tbody>\n",
       "</table>\n",
       "<p>166 rows × 2 columns</p>\n",
       "</div>"
      ],
      "text/plain": [
       "     distancia                     __dt\n",
       "0            2  2021-05-30 00:00:00.000\n",
       "1            2  2021-05-30 00:00:00.000\n",
       "2            2  2021-05-30 00:00:00.000\n",
       "3            6  2021-05-30 00:00:00.000\n",
       "4            6  2021-05-30 00:00:00.000\n",
       "..         ...                      ...\n",
       "161          5  2021-05-30 00:00:00.000\n",
       "162          5  2021-05-30 00:00:00.000\n",
       "163          7  2021-05-30 00:00:00.000\n",
       "164          6  2021-05-30 00:00:00.000\n",
       "165          6  2021-05-30 00:00:00.000\n",
       "\n",
       "[166 rows x 2 columns]"
      ]
     },
     "execution_count": 22,
     "metadata": {},
     "output_type": "execute_result"
    }
   ],
   "source": [
    "df"
   ]
  },
  {
   "cell_type": "code",
   "execution_count": 25,
   "metadata": {},
   "outputs": [
    {
     "ename": "TypeError",
     "evalue": "Could not convert 2021-05-30 00:00:00.0002021-05-30 00:00:00.0002021-05-30 00:00:00.0002021-05-30 00:00:00.0002021-05-30 00:00:00.0002021-05-30 00:00:00.0002021-05-30 00:00:00.0002021-05-30 00:00:00.0002021-05-30 00:00:00.0002021-05-30 00:00:00.0002021-05-30 00:00:00.0002021-05-30 00:00:00.0002021-05-30 00:00:00.0002021-05-30 00:00:00.0002021-05-30 00:00:00.0002021-05-30 00:00:00.0002021-05-30 00:00:00.0002021-05-30 00:00:00.0002021-05-30 00:00:00.0002021-05-30 00:00:00.0002021-05-30 00:00:00.0002021-05-30 00:00:00.0002021-05-30 00:00:00.0002021-05-30 00:00:00.0002021-05-30 00:00:00.0002021-05-30 00:00:00.0002021-05-30 00:00:00.0002021-05-30 00:00:00.0002021-05-30 00:00:00.0002021-05-30 00:00:00.0002021-05-30 00:00:00.0002021-05-30 00:00:00.0002021-05-30 00:00:00.0002021-05-30 00:00:00.0002021-05-30 00:00:00.0002021-05-30 00:00:00.0002021-05-30 00:00:00.0002021-05-30 00:00:00.0002021-05-30 00:00:00.0002021-05-30 00:00:00.0002021-05-30 00:00:00.0002021-05-30 00:00:00.0002021-05-30 00:00:00.0002021-05-30 00:00:00.0002021-05-30 00:00:00.0002021-05-30 00:00:00.0002021-05-30 00:00:00.0002021-05-30 00:00:00.0002021-05-30 00:00:00.0002021-05-30 00:00:00.0002021-05-30 00:00:00.0002021-05-30 00:00:00.0002021-05-30 00:00:00.0002021-05-30 00:00:00.0002021-05-30 00:00:00.0002021-05-30 00:00:00.0002021-05-30 00:00:00.0002021-05-30 00:00:00.0002021-05-30 00:00:00.0002021-05-30 00:00:00.0002021-05-30 00:00:00.0002021-05-30 00:00:00.0002021-05-30 00:00:00.0002021-05-30 00:00:00.0002021-05-30 00:00:00.0002021-05-30 00:00:00.0002021-05-30 00:00:00.0002021-05-30 00:00:00.0002021-05-30 00:00:00.0002021-05-30 00:00:00.0002021-05-30 00:00:00.0002021-05-30 00:00:00.0002021-05-30 00:00:00.0002021-05-30 00:00:00.0002021-05-30 00:00:00.0002021-05-30 00:00:00.0002021-05-30 00:00:00.0002021-05-30 00:00:00.0002021-05-30 00:00:00.0002021-05-30 00:00:00.0002021-05-30 00:00:00.0002021-05-30 00:00:00.0002021-05-30 00:00:00.0002021-05-30 00:00:00.0002021-05-30 00:00:00.0002021-05-30 00:00:00.0002021-05-30 00:00:00.0002021-05-30 00:00:00.0002021-05-30 00:00:00.0002021-05-30 00:00:00.0002021-05-30 00:00:00.0002021-05-30 00:00:00.0002021-05-30 00:00:00.0002021-05-30 00:00:00.0002021-05-30 00:00:00.0002021-05-30 00:00:00.0002021-05-30 00:00:00.0002021-05-30 00:00:00.0002021-05-30 00:00:00.0002021-05-30 00:00:00.0002021-05-30 00:00:00.0002021-05-30 00:00:00.0002021-05-30 00:00:00.0002021-05-30 00:00:00.0002021-05-30 00:00:00.0002021-05-30 00:00:00.0002021-05-30 00:00:00.0002021-05-30 00:00:00.0002021-05-30 00:00:00.0002021-05-30 00:00:00.0002021-05-30 00:00:00.0002021-05-30 00:00:00.0002021-05-30 00:00:00.0002021-05-30 00:00:00.0002021-05-30 00:00:00.0002021-05-30 00:00:00.0002021-05-30 00:00:00.0002021-05-30 00:00:00.0002021-05-30 00:00:00.0002021-05-30 00:00:00.0002021-05-30 00:00:00.0002021-05-30 00:00:00.0002021-05-30 00:00:00.0002021-05-30 00:00:00.0002021-05-30 00:00:00.0002021-05-30 00:00:00.0002021-05-30 00:00:00.0002021-05-30 00:00:00.0002021-05-30 00:00:00.0002021-05-30 00:00:00.0002021-05-30 00:00:00.0002021-05-30 00:00:00.0002021-05-30 00:00:00.0002021-05-30 00:00:00.0002021-05-30 00:00:00.0002021-05-30 00:00:00.0002021-05-30 00:00:00.0002021-05-30 00:00:00.0002021-05-30 00:00:00.0002021-05-30 00:00:00.0002021-05-30 00:00:00.0002021-05-30 00:00:00.0002021-05-30 00:00:00.0002021-05-30 00:00:00.0002021-05-30 00:00:00.0002021-05-30 00:00:00.0002021-05-30 00:00:00.0002021-05-30 00:00:00.0002021-05-30 00:00:00.0002021-05-30 00:00:00.0002021-05-30 00:00:00.0002021-05-30 00:00:00.0002021-05-30 00:00:00.0002021-05-30 00:00:00.0002021-05-30 00:00:00.0002021-05-30 00:00:00.0002021-05-30 00:00:00.0002021-05-30 00:00:00.0002021-05-30 00:00:00.0002021-05-30 00:00:00.0002021-05-30 00:00:00.0002021-05-30 00:00:00.0002021-05-30 00:00:00.0002021-05-30 00:00:00.0002021-05-30 00:00:00.0002021-05-30 00:00:00.000 to numeric",
     "output_type": "error",
     "traceback": [
      "\u001b[1;31m---------------------------------------------------------------------------\u001b[0m",
      "\u001b[1;31mValueError\u001b[0m                                Traceback (most recent call last)",
      "\u001b[1;32m~\\anaconda3\\lib\\site-packages\\pandas\\core\\nanops.py\u001b[0m in \u001b[0;36m_ensure_numeric\u001b[1;34m(x)\u001b[0m\n\u001b[0;32m   1426\u001b[0m         \u001b[1;32mtry\u001b[0m\u001b[1;33m:\u001b[0m\u001b[1;33m\u001b[0m\u001b[1;33m\u001b[0m\u001b[0m\n\u001b[1;32m-> 1427\u001b[1;33m             \u001b[0mx\u001b[0m \u001b[1;33m=\u001b[0m \u001b[0mfloat\u001b[0m\u001b[1;33m(\u001b[0m\u001b[0mx\u001b[0m\u001b[1;33m)\u001b[0m\u001b[1;33m\u001b[0m\u001b[1;33m\u001b[0m\u001b[0m\n\u001b[0m\u001b[0;32m   1428\u001b[0m         \u001b[1;32mexcept\u001b[0m \u001b[0mValueError\u001b[0m\u001b[1;33m:\u001b[0m\u001b[1;33m\u001b[0m\u001b[1;33m\u001b[0m\u001b[0m\n",
      "\u001b[1;31mValueError\u001b[0m: could not convert string to float: '2021-05-30 00:00:00.0002021-05-30 00:00:00.0002021-05-30 00:00:00.0002021-05-30 00:00:00.0002021-05-30 00:00:00.0002021-05-30 00:00:00.0002021-05-30 00:00:00.0002021-05-30 00:00:00.0002021-05-30 00:00:00.0002021-05-30 00:00:00.0002021-05-30 00:00:00.0002021-05-30 00:00:00.0002021-05-30 00:00:00.0002021-05-30 00:00:00.0002021-05-30 00:00:00.0002021-05-30 00:00:00.0002021-05-30 00:00:00.0002021-05-30 00:00:00.0002021-05-30 00:00:00.0002021-05-30 00:00:00.0002021-05-30 00:00:00.0002021-05-30 00:00:00.0002021-05-30 00:00:00.0002021-05-30 00:00:00.0002021-05-30 00:00:00.0002021-05-30 00:00:00.0002021-05-30 00:00:00.0002021-05-30 00:00:00.0002021-05-30 00:00:00.0002021-05-30 00:00:00.0002021-05-30 00:00:00.0002021-05-30 00:00:00.0002021-05-30 00:00:00.0002021-05-30 00:00:00.0002021-05-30 00:00:00.0002021-05-30 00:00:00.0002021-05-30 00:00:00.0002021-05-30 00:00:00.0002021-05-30 00:00:00.0002021-05-30 00:00:00.0002021-05-30 00:00:00.0002021-05-30 00:00:00.0002021-05-30 00:00:00.0002021-05-30 00:00:00.0002021-05-30 00:00:00.0002021-05-30 00:00:00.0002021-05-30 00:00:00.0002021-05-30 00:00:00.0002021-05-30 00:00:00.0002021-05-30 00:00:00.0002021-05-30 00:00:00.0002021-05-30 00:00:00.0002021-05-30 00:00:00.0002021-05-30 00:00:00.0002021-05-30 00:00:00.0002021-05-30 00:00:00.0002021-05-30 00:00:00.0002021-05-30 00:00:00.0002021-05-30 00:00:00.0002021-05-30 00:00:00.0002021-05-30 00:00:00.0002021-05-30 00:00:00.0002021-05-30 00:00:00.0002021-05-30 00:00:00.0002021-05-30 00:00:00.0002021-05-30 00:00:00.0002021-05-30 00:00:00.0002021-05-30 00:00:00.0002021-05-30 00:00:00.0002021-05-30 00:00:00.0002021-05-30 00:00:00.0002021-05-30 00:00:00.0002021-05-30 00:00:00.0002021-05-30 00:00:00.0002021-05-30 00:00:00.0002021-05-30 00:00:00.0002021-05-30 00:00:00.0002021-05-30 00:00:00.0002021-05-30 00:00:00.0002021-05-30 00:00:00.0002021-05-30 00:00:00.0002021-05-30 00:00:00.0002021-05-30 00:00:00.0002021-05-30 00:00:00.0002021-05-30 00:00:00.0002021-05-30 00:00:00.0002021-05-30 00:00:00.0002021-05-30 00:00:00.0002021-05-30 00:00:00.0002021-05-30 00:00:00.0002021-05-30 00:00:00.0002021-05-30 00:00:00.0002021-05-30 00:00:00.0002021-05-30 00:00:00.0002021-05-30 00:00:00.0002021-05-30 00:00:00.0002021-05-30 00:00:00.0002021-05-30 00:00:00.0002021-05-30 00:00:00.0002021-05-30 00:00:00.0002021-05-30 00:00:00.0002021-05-30 00:00:00.0002021-05-30 00:00:00.0002021-05-30 00:00:00.0002021-05-30 00:00:00.0002021-05-30 00:00:00.0002021-05-30 00:00:00.0002021-05-30 00:00:00.0002021-05-30 00:00:00.0002021-05-30 00:00:00.0002021-05-30 00:00:00.0002021-05-30 00:00:00.0002021-05-30 00:00:00.0002021-05-30 00:00:00.0002021-05-30 00:00:00.0002021-05-30 00:00:00.0002021-05-30 00:00:00.0002021-05-30 00:00:00.0002021-05-30 00:00:00.0002021-05-30 00:00:00.0002021-05-30 00:00:00.0002021-05-30 00:00:00.0002021-05-30 00:00:00.0002021-05-30 00:00:00.0002021-05-30 00:00:00.0002021-05-30 00:00:00.0002021-05-30 00:00:00.0002021-05-30 00:00:00.0002021-05-30 00:00:00.0002021-05-30 00:00:00.0002021-05-30 00:00:00.0002021-05-30 00:00:00.0002021-05-30 00:00:00.0002021-05-30 00:00:00.0002021-05-30 00:00:00.0002021-05-30 00:00:00.0002021-05-30 00:00:00.0002021-05-30 00:00:00.0002021-05-30 00:00:00.0002021-05-30 00:00:00.0002021-05-30 00:00:00.0002021-05-30 00:00:00.0002021-05-30 00:00:00.0002021-05-30 00:00:00.0002021-05-30 00:00:00.0002021-05-30 00:00:00.0002021-05-30 00:00:00.0002021-05-30 00:00:00.0002021-05-30 00:00:00.0002021-05-30 00:00:00.0002021-05-30 00:00:00.0002021-05-30 00:00:00.0002021-05-30 00:00:00.0002021-05-30 00:00:00.0002021-05-30 00:00:00.0002021-05-30 00:00:00.0002021-05-30 00:00:00.0002021-05-30 00:00:00.0002021-05-30 00:00:00.0002021-05-30 00:00:00.0002021-05-30 00:00:00.0002021-05-30 00:00:00.0002021-05-30 00:00:00.0002021-05-30 00:00:00.0002021-05-30 00:00:00.0002021-05-30 00:00:00.000'",
      "\nDuring handling of the above exception, another exception occurred:\n",
      "\u001b[1;31mValueError\u001b[0m                                Traceback (most recent call last)",
      "\u001b[1;32m~\\anaconda3\\lib\\site-packages\\pandas\\core\\nanops.py\u001b[0m in \u001b[0;36m_ensure_numeric\u001b[1;34m(x)\u001b[0m\n\u001b[0;32m   1430\u001b[0m             \u001b[1;32mtry\u001b[0m\u001b[1;33m:\u001b[0m\u001b[1;33m\u001b[0m\u001b[1;33m\u001b[0m\u001b[0m\n\u001b[1;32m-> 1431\u001b[1;33m                 \u001b[0mx\u001b[0m \u001b[1;33m=\u001b[0m \u001b[0mcomplex\u001b[0m\u001b[1;33m(\u001b[0m\u001b[0mx\u001b[0m\u001b[1;33m)\u001b[0m\u001b[1;33m\u001b[0m\u001b[1;33m\u001b[0m\u001b[0m\n\u001b[0m\u001b[0;32m   1432\u001b[0m             \u001b[1;32mexcept\u001b[0m \u001b[0mValueError\u001b[0m \u001b[1;32mas\u001b[0m \u001b[0merr\u001b[0m\u001b[1;33m:\u001b[0m\u001b[1;33m\u001b[0m\u001b[1;33m\u001b[0m\u001b[0m\n",
      "\u001b[1;31mValueError\u001b[0m: complex() arg is a malformed string",
      "\nThe above exception was the direct cause of the following exception:\n",
      "\u001b[1;31mTypeError\u001b[0m                                 Traceback (most recent call last)",
      "\u001b[1;32m<ipython-input-25-777f0215f2a4>\u001b[0m in \u001b[0;36m<module>\u001b[1;34m\u001b[0m\n\u001b[1;32m----> 1\u001b[1;33m \u001b[0mg\u001b[0m\u001b[1;33m=\u001b[0m\u001b[0msns\u001b[0m\u001b[1;33m.\u001b[0m\u001b[0mlmplot\u001b[0m\u001b[1;33m(\u001b[0m\u001b[0mx\u001b[0m\u001b[1;33m=\u001b[0m\u001b[1;34m'distancia'\u001b[0m\u001b[1;33m,\u001b[0m \u001b[0my\u001b[0m\u001b[1;33m=\u001b[0m\u001b[1;34m'__dt'\u001b[0m\u001b[1;33m,\u001b[0m\u001b[0mdata\u001b[0m\u001b[1;33m=\u001b[0m\u001b[0mdf\u001b[0m\u001b[1;33m,\u001b[0m\u001b[0mpalette\u001b[0m\u001b[1;33m=\u001b[0m\u001b[1;34m'distancia'\u001b[0m\u001b[1;33m)\u001b[0m\u001b[1;33m\u001b[0m\u001b[1;33m\u001b[0m\u001b[0m\n\u001b[0m",
      "\u001b[1;32m~\\anaconda3\\lib\\site-packages\\seaborn\\_decorators.py\u001b[0m in \u001b[0;36minner_f\u001b[1;34m(*args, **kwargs)\u001b[0m\n\u001b[0;32m     44\u001b[0m             )\n\u001b[0;32m     45\u001b[0m         \u001b[0mkwargs\u001b[0m\u001b[1;33m.\u001b[0m\u001b[0mupdate\u001b[0m\u001b[1;33m(\u001b[0m\u001b[1;33m{\u001b[0m\u001b[0mk\u001b[0m\u001b[1;33m:\u001b[0m \u001b[0marg\u001b[0m \u001b[1;32mfor\u001b[0m \u001b[0mk\u001b[0m\u001b[1;33m,\u001b[0m \u001b[0marg\u001b[0m \u001b[1;32min\u001b[0m \u001b[0mzip\u001b[0m\u001b[1;33m(\u001b[0m\u001b[0msig\u001b[0m\u001b[1;33m.\u001b[0m\u001b[0mparameters\u001b[0m\u001b[1;33m,\u001b[0m \u001b[0margs\u001b[0m\u001b[1;33m)\u001b[0m\u001b[1;33m}\u001b[0m\u001b[1;33m)\u001b[0m\u001b[1;33m\u001b[0m\u001b[1;33m\u001b[0m\u001b[0m\n\u001b[1;32m---> 46\u001b[1;33m         \u001b[1;32mreturn\u001b[0m \u001b[0mf\u001b[0m\u001b[1;33m(\u001b[0m\u001b[1;33m**\u001b[0m\u001b[0mkwargs\u001b[0m\u001b[1;33m)\u001b[0m\u001b[1;33m\u001b[0m\u001b[1;33m\u001b[0m\u001b[0m\n\u001b[0m\u001b[0;32m     47\u001b[0m     \u001b[1;32mreturn\u001b[0m \u001b[0minner_f\u001b[0m\u001b[1;33m\u001b[0m\u001b[1;33m\u001b[0m\u001b[0m\n\u001b[0;32m     48\u001b[0m \u001b[1;33m\u001b[0m\u001b[0m\n",
      "\u001b[1;32m~\\anaconda3\\lib\\site-packages\\seaborn\\regression.py\u001b[0m in \u001b[0;36mlmplot\u001b[1;34m(x, y, data, hue, col, row, palette, col_wrap, height, aspect, markers, sharex, sharey, hue_order, col_order, row_order, legend, legend_out, x_estimator, x_bins, x_ci, scatter, fit_reg, ci, n_boot, units, seed, order, logistic, lowess, robust, logx, x_partial, y_partial, truncate, x_jitter, y_jitter, scatter_kws, line_kws, size)\u001b[0m\n\u001b[0;32m    612\u001b[0m     \u001b[1;32mif\u001b[0m \u001b[0msharex\u001b[0m\u001b[1;33m:\u001b[0m\u001b[1;33m\u001b[0m\u001b[1;33m\u001b[0m\u001b[0m\n\u001b[0;32m    613\u001b[0m         \u001b[1;32mfor\u001b[0m \u001b[0max\u001b[0m \u001b[1;32min\u001b[0m \u001b[0mfacets\u001b[0m\u001b[1;33m.\u001b[0m\u001b[0maxes\u001b[0m\u001b[1;33m.\u001b[0m\u001b[0mflat\u001b[0m\u001b[1;33m:\u001b[0m\u001b[1;33m\u001b[0m\u001b[1;33m\u001b[0m\u001b[0m\n\u001b[1;32m--> 614\u001b[1;33m             \u001b[0max\u001b[0m\u001b[1;33m.\u001b[0m\u001b[0mscatter\u001b[0m\u001b[1;33m(\u001b[0m\u001b[0mdata\u001b[0m\u001b[1;33m[\u001b[0m\u001b[0mx\u001b[0m\u001b[1;33m]\u001b[0m\u001b[1;33m,\u001b[0m \u001b[0mnp\u001b[0m\u001b[1;33m.\u001b[0m\u001b[0mones\u001b[0m\u001b[1;33m(\u001b[0m\u001b[0mlen\u001b[0m\u001b[1;33m(\u001b[0m\u001b[0mdata\u001b[0m\u001b[1;33m)\u001b[0m\u001b[1;33m)\u001b[0m \u001b[1;33m*\u001b[0m \u001b[0mdata\u001b[0m\u001b[1;33m[\u001b[0m\u001b[0my\u001b[0m\u001b[1;33m]\u001b[0m\u001b[1;33m.\u001b[0m\u001b[0mmean\u001b[0m\u001b[1;33m(\u001b[0m\u001b[1;33m)\u001b[0m\u001b[1;33m)\u001b[0m\u001b[1;33m.\u001b[0m\u001b[0mremove\u001b[0m\u001b[1;33m(\u001b[0m\u001b[1;33m)\u001b[0m\u001b[1;33m\u001b[0m\u001b[1;33m\u001b[0m\u001b[0m\n\u001b[0m\u001b[0;32m    615\u001b[0m \u001b[1;33m\u001b[0m\u001b[0m\n\u001b[0;32m    616\u001b[0m     \u001b[1;31m# Draw the regression plot on each facet\u001b[0m\u001b[1;33m\u001b[0m\u001b[1;33m\u001b[0m\u001b[1;33m\u001b[0m\u001b[0m\n",
      "\u001b[1;32m~\\anaconda3\\lib\\site-packages\\pandas\\core\\generic.py\u001b[0m in \u001b[0;36mstat_func\u001b[1;34m(self, axis, skipna, level, numeric_only, **kwargs)\u001b[0m\n\u001b[0;32m  11466\u001b[0m         \u001b[1;32mif\u001b[0m \u001b[0mlevel\u001b[0m \u001b[1;32mis\u001b[0m \u001b[1;32mnot\u001b[0m \u001b[1;32mNone\u001b[0m\u001b[1;33m:\u001b[0m\u001b[1;33m\u001b[0m\u001b[1;33m\u001b[0m\u001b[0m\n\u001b[0;32m  11467\u001b[0m             \u001b[1;32mreturn\u001b[0m \u001b[0mself\u001b[0m\u001b[1;33m.\u001b[0m\u001b[0m_agg_by_level\u001b[0m\u001b[1;33m(\u001b[0m\u001b[0mname\u001b[0m\u001b[1;33m,\u001b[0m \u001b[0maxis\u001b[0m\u001b[1;33m=\u001b[0m\u001b[0maxis\u001b[0m\u001b[1;33m,\u001b[0m \u001b[0mlevel\u001b[0m\u001b[1;33m=\u001b[0m\u001b[0mlevel\u001b[0m\u001b[1;33m,\u001b[0m \u001b[0mskipna\u001b[0m\u001b[1;33m=\u001b[0m\u001b[0mskipna\u001b[0m\u001b[1;33m)\u001b[0m\u001b[1;33m\u001b[0m\u001b[1;33m\u001b[0m\u001b[0m\n\u001b[1;32m> 11468\u001b[1;33m         return self._reduce(\n\u001b[0m\u001b[0;32m  11469\u001b[0m             \u001b[0mfunc\u001b[0m\u001b[1;33m,\u001b[0m \u001b[0mname\u001b[0m\u001b[1;33m=\u001b[0m\u001b[0mname\u001b[0m\u001b[1;33m,\u001b[0m \u001b[0maxis\u001b[0m\u001b[1;33m=\u001b[0m\u001b[0maxis\u001b[0m\u001b[1;33m,\u001b[0m \u001b[0mskipna\u001b[0m\u001b[1;33m=\u001b[0m\u001b[0mskipna\u001b[0m\u001b[1;33m,\u001b[0m \u001b[0mnumeric_only\u001b[0m\u001b[1;33m=\u001b[0m\u001b[0mnumeric_only\u001b[0m\u001b[1;33m\u001b[0m\u001b[1;33m\u001b[0m\u001b[0m\n\u001b[0;32m  11470\u001b[0m         )\n",
      "\u001b[1;32m~\\anaconda3\\lib\\site-packages\\pandas\\core\\series.py\u001b[0m in \u001b[0;36m_reduce\u001b[1;34m(self, op, name, axis, skipna, numeric_only, filter_type, **kwds)\u001b[0m\n\u001b[0;32m   4234\u001b[0m                 )\n\u001b[0;32m   4235\u001b[0m             \u001b[1;32mwith\u001b[0m \u001b[0mnp\u001b[0m\u001b[1;33m.\u001b[0m\u001b[0merrstate\u001b[0m\u001b[1;33m(\u001b[0m\u001b[0mall\u001b[0m\u001b[1;33m=\u001b[0m\u001b[1;34m\"ignore\"\u001b[0m\u001b[1;33m)\u001b[0m\u001b[1;33m:\u001b[0m\u001b[1;33m\u001b[0m\u001b[1;33m\u001b[0m\u001b[0m\n\u001b[1;32m-> 4236\u001b[1;33m                 \u001b[1;32mreturn\u001b[0m \u001b[0mop\u001b[0m\u001b[1;33m(\u001b[0m\u001b[0mdelegate\u001b[0m\u001b[1;33m,\u001b[0m \u001b[0mskipna\u001b[0m\u001b[1;33m=\u001b[0m\u001b[0mskipna\u001b[0m\u001b[1;33m,\u001b[0m \u001b[1;33m**\u001b[0m\u001b[0mkwds\u001b[0m\u001b[1;33m)\u001b[0m\u001b[1;33m\u001b[0m\u001b[1;33m\u001b[0m\u001b[0m\n\u001b[0m\u001b[0;32m   4237\u001b[0m \u001b[1;33m\u001b[0m\u001b[0m\n\u001b[0;32m   4238\u001b[0m     \u001b[1;32mdef\u001b[0m \u001b[0m_reindex_indexer\u001b[0m\u001b[1;33m(\u001b[0m\u001b[0mself\u001b[0m\u001b[1;33m,\u001b[0m \u001b[0mnew_index\u001b[0m\u001b[1;33m,\u001b[0m \u001b[0mindexer\u001b[0m\u001b[1;33m,\u001b[0m \u001b[0mcopy\u001b[0m\u001b[1;33m)\u001b[0m\u001b[1;33m:\u001b[0m\u001b[1;33m\u001b[0m\u001b[1;33m\u001b[0m\u001b[0m\n",
      "\u001b[1;32m~\\anaconda3\\lib\\site-packages\\pandas\\core\\nanops.py\u001b[0m in \u001b[0;36m_f\u001b[1;34m(*args, **kwargs)\u001b[0m\n\u001b[0;32m     69\u001b[0m             \u001b[1;32mtry\u001b[0m\u001b[1;33m:\u001b[0m\u001b[1;33m\u001b[0m\u001b[1;33m\u001b[0m\u001b[0m\n\u001b[0;32m     70\u001b[0m                 \u001b[1;32mwith\u001b[0m \u001b[0mnp\u001b[0m\u001b[1;33m.\u001b[0m\u001b[0merrstate\u001b[0m\u001b[1;33m(\u001b[0m\u001b[0minvalid\u001b[0m\u001b[1;33m=\u001b[0m\u001b[1;34m\"ignore\"\u001b[0m\u001b[1;33m)\u001b[0m\u001b[1;33m:\u001b[0m\u001b[1;33m\u001b[0m\u001b[1;33m\u001b[0m\u001b[0m\n\u001b[1;32m---> 71\u001b[1;33m                     \u001b[1;32mreturn\u001b[0m \u001b[0mf\u001b[0m\u001b[1;33m(\u001b[0m\u001b[1;33m*\u001b[0m\u001b[0margs\u001b[0m\u001b[1;33m,\u001b[0m \u001b[1;33m**\u001b[0m\u001b[0mkwargs\u001b[0m\u001b[1;33m)\u001b[0m\u001b[1;33m\u001b[0m\u001b[1;33m\u001b[0m\u001b[0m\n\u001b[0m\u001b[0;32m     72\u001b[0m             \u001b[1;32mexcept\u001b[0m \u001b[0mValueError\u001b[0m \u001b[1;32mas\u001b[0m \u001b[0me\u001b[0m\u001b[1;33m:\u001b[0m\u001b[1;33m\u001b[0m\u001b[1;33m\u001b[0m\u001b[0m\n\u001b[0;32m     73\u001b[0m                 \u001b[1;31m# we want to transform an object array\u001b[0m\u001b[1;33m\u001b[0m\u001b[1;33m\u001b[0m\u001b[1;33m\u001b[0m\u001b[0m\n",
      "\u001b[1;32m~\\anaconda3\\lib\\site-packages\\pandas\\core\\nanops.py\u001b[0m in \u001b[0;36mf\u001b[1;34m(values, axis, skipna, **kwds)\u001b[0m\n\u001b[0;32m    127\u001b[0m                     \u001b[0mresult\u001b[0m \u001b[1;33m=\u001b[0m \u001b[0malt\u001b[0m\u001b[1;33m(\u001b[0m\u001b[0mvalues\u001b[0m\u001b[1;33m,\u001b[0m \u001b[0maxis\u001b[0m\u001b[1;33m=\u001b[0m\u001b[0maxis\u001b[0m\u001b[1;33m,\u001b[0m \u001b[0mskipna\u001b[0m\u001b[1;33m=\u001b[0m\u001b[0mskipna\u001b[0m\u001b[1;33m,\u001b[0m \u001b[1;33m**\u001b[0m\u001b[0mkwds\u001b[0m\u001b[1;33m)\u001b[0m\u001b[1;33m\u001b[0m\u001b[1;33m\u001b[0m\u001b[0m\n\u001b[0;32m    128\u001b[0m             \u001b[1;32melse\u001b[0m\u001b[1;33m:\u001b[0m\u001b[1;33m\u001b[0m\u001b[1;33m\u001b[0m\u001b[0m\n\u001b[1;32m--> 129\u001b[1;33m                 \u001b[0mresult\u001b[0m \u001b[1;33m=\u001b[0m \u001b[0malt\u001b[0m\u001b[1;33m(\u001b[0m\u001b[0mvalues\u001b[0m\u001b[1;33m,\u001b[0m \u001b[0maxis\u001b[0m\u001b[1;33m=\u001b[0m\u001b[0maxis\u001b[0m\u001b[1;33m,\u001b[0m \u001b[0mskipna\u001b[0m\u001b[1;33m=\u001b[0m\u001b[0mskipna\u001b[0m\u001b[1;33m,\u001b[0m \u001b[1;33m**\u001b[0m\u001b[0mkwds\u001b[0m\u001b[1;33m)\u001b[0m\u001b[1;33m\u001b[0m\u001b[1;33m\u001b[0m\u001b[0m\n\u001b[0m\u001b[0;32m    130\u001b[0m \u001b[1;33m\u001b[0m\u001b[0m\n\u001b[0;32m    131\u001b[0m             \u001b[1;32mreturn\u001b[0m \u001b[0mresult\u001b[0m\u001b[1;33m\u001b[0m\u001b[1;33m\u001b[0m\u001b[0m\n",
      "\u001b[1;32m~\\anaconda3\\lib\\site-packages\\pandas\\core\\nanops.py\u001b[0m in \u001b[0;36mnanmean\u001b[1;34m(values, axis, skipna, mask)\u001b[0m\n\u001b[0;32m    561\u001b[0m         \u001b[0mdtype_count\u001b[0m \u001b[1;33m=\u001b[0m \u001b[0mdtype\u001b[0m\u001b[1;33m\u001b[0m\u001b[1;33m\u001b[0m\u001b[0m\n\u001b[0;32m    562\u001b[0m     \u001b[0mcount\u001b[0m \u001b[1;33m=\u001b[0m \u001b[0m_get_counts\u001b[0m\u001b[1;33m(\u001b[0m\u001b[0mvalues\u001b[0m\u001b[1;33m.\u001b[0m\u001b[0mshape\u001b[0m\u001b[1;33m,\u001b[0m \u001b[0mmask\u001b[0m\u001b[1;33m,\u001b[0m \u001b[0maxis\u001b[0m\u001b[1;33m,\u001b[0m \u001b[0mdtype\u001b[0m\u001b[1;33m=\u001b[0m\u001b[0mdtype_count\u001b[0m\u001b[1;33m)\u001b[0m\u001b[1;33m\u001b[0m\u001b[1;33m\u001b[0m\u001b[0m\n\u001b[1;32m--> 563\u001b[1;33m     \u001b[0mthe_sum\u001b[0m \u001b[1;33m=\u001b[0m \u001b[0m_ensure_numeric\u001b[0m\u001b[1;33m(\u001b[0m\u001b[0mvalues\u001b[0m\u001b[1;33m.\u001b[0m\u001b[0msum\u001b[0m\u001b[1;33m(\u001b[0m\u001b[0maxis\u001b[0m\u001b[1;33m,\u001b[0m \u001b[0mdtype\u001b[0m\u001b[1;33m=\u001b[0m\u001b[0mdtype_sum\u001b[0m\u001b[1;33m)\u001b[0m\u001b[1;33m)\u001b[0m\u001b[1;33m\u001b[0m\u001b[1;33m\u001b[0m\u001b[0m\n\u001b[0m\u001b[0;32m    564\u001b[0m \u001b[1;33m\u001b[0m\u001b[0m\n\u001b[0;32m    565\u001b[0m     \u001b[1;32mif\u001b[0m \u001b[0maxis\u001b[0m \u001b[1;32mis\u001b[0m \u001b[1;32mnot\u001b[0m \u001b[1;32mNone\u001b[0m \u001b[1;32mand\u001b[0m \u001b[0mgetattr\u001b[0m\u001b[1;33m(\u001b[0m\u001b[0mthe_sum\u001b[0m\u001b[1;33m,\u001b[0m \u001b[1;34m\"ndim\"\u001b[0m\u001b[1;33m,\u001b[0m \u001b[1;32mFalse\u001b[0m\u001b[1;33m)\u001b[0m\u001b[1;33m:\u001b[0m\u001b[1;33m\u001b[0m\u001b[1;33m\u001b[0m\u001b[0m\n",
      "\u001b[1;32m~\\anaconda3\\lib\\site-packages\\pandas\\core\\nanops.py\u001b[0m in \u001b[0;36m_ensure_numeric\u001b[1;34m(x)\u001b[0m\n\u001b[0;32m   1432\u001b[0m             \u001b[1;32mexcept\u001b[0m \u001b[0mValueError\u001b[0m \u001b[1;32mas\u001b[0m \u001b[0merr\u001b[0m\u001b[1;33m:\u001b[0m\u001b[1;33m\u001b[0m\u001b[1;33m\u001b[0m\u001b[0m\n\u001b[0;32m   1433\u001b[0m                 \u001b[1;31m# e.g. \"foo\"\u001b[0m\u001b[1;33m\u001b[0m\u001b[1;33m\u001b[0m\u001b[1;33m\u001b[0m\u001b[0m\n\u001b[1;32m-> 1434\u001b[1;33m                 \u001b[1;32mraise\u001b[0m \u001b[0mTypeError\u001b[0m\u001b[1;33m(\u001b[0m\u001b[1;34mf\"Could not convert {x} to numeric\"\u001b[0m\u001b[1;33m)\u001b[0m \u001b[1;32mfrom\u001b[0m \u001b[0merr\u001b[0m\u001b[1;33m\u001b[0m\u001b[1;33m\u001b[0m\u001b[0m\n\u001b[0m\u001b[0;32m   1435\u001b[0m     \u001b[1;32mreturn\u001b[0m \u001b[0mx\u001b[0m\u001b[1;33m\u001b[0m\u001b[1;33m\u001b[0m\u001b[0m\n\u001b[0;32m   1436\u001b[0m \u001b[1;33m\u001b[0m\u001b[0m\n",
      "\u001b[1;31mTypeError\u001b[0m: Could not convert 2021-05-30 00:00:00.0002021-05-30 00:00:00.0002021-05-30 00:00:00.0002021-05-30 00:00:00.0002021-05-30 00:00:00.0002021-05-30 00:00:00.0002021-05-30 00:00:00.0002021-05-30 00:00:00.0002021-05-30 00:00:00.0002021-05-30 00:00:00.0002021-05-30 00:00:00.0002021-05-30 00:00:00.0002021-05-30 00:00:00.0002021-05-30 00:00:00.0002021-05-30 00:00:00.0002021-05-30 00:00:00.0002021-05-30 00:00:00.0002021-05-30 00:00:00.0002021-05-30 00:00:00.0002021-05-30 00:00:00.0002021-05-30 00:00:00.0002021-05-30 00:00:00.0002021-05-30 00:00:00.0002021-05-30 00:00:00.0002021-05-30 00:00:00.0002021-05-30 00:00:00.0002021-05-30 00:00:00.0002021-05-30 00:00:00.0002021-05-30 00:00:00.0002021-05-30 00:00:00.0002021-05-30 00:00:00.0002021-05-30 00:00:00.0002021-05-30 00:00:00.0002021-05-30 00:00:00.0002021-05-30 00:00:00.0002021-05-30 00:00:00.0002021-05-30 00:00:00.0002021-05-30 00:00:00.0002021-05-30 00:00:00.0002021-05-30 00:00:00.0002021-05-30 00:00:00.0002021-05-30 00:00:00.0002021-05-30 00:00:00.0002021-05-30 00:00:00.0002021-05-30 00:00:00.0002021-05-30 00:00:00.0002021-05-30 00:00:00.0002021-05-30 00:00:00.0002021-05-30 00:00:00.0002021-05-30 00:00:00.0002021-05-30 00:00:00.0002021-05-30 00:00:00.0002021-05-30 00:00:00.0002021-05-30 00:00:00.0002021-05-30 00:00:00.0002021-05-30 00:00:00.0002021-05-30 00:00:00.0002021-05-30 00:00:00.0002021-05-30 00:00:00.0002021-05-30 00:00:00.0002021-05-30 00:00:00.0002021-05-30 00:00:00.0002021-05-30 00:00:00.0002021-05-30 00:00:00.0002021-05-30 00:00:00.0002021-05-30 00:00:00.0002021-05-30 00:00:00.0002021-05-30 00:00:00.0002021-05-30 00:00:00.0002021-05-30 00:00:00.0002021-05-30 00:00:00.0002021-05-30 00:00:00.0002021-05-30 00:00:00.0002021-05-30 00:00:00.0002021-05-30 00:00:00.0002021-05-30 00:00:00.0002021-05-30 00:00:00.0002021-05-30 00:00:00.0002021-05-30 00:00:00.0002021-05-30 00:00:00.0002021-05-30 00:00:00.0002021-05-30 00:00:00.0002021-05-30 00:00:00.0002021-05-30 00:00:00.0002021-05-30 00:00:00.0002021-05-30 00:00:00.0002021-05-30 00:00:00.0002021-05-30 00:00:00.0002021-05-30 00:00:00.0002021-05-30 00:00:00.0002021-05-30 00:00:00.0002021-05-30 00:00:00.0002021-05-30 00:00:00.0002021-05-30 00:00:00.0002021-05-30 00:00:00.0002021-05-30 00:00:00.0002021-05-30 00:00:00.0002021-05-30 00:00:00.0002021-05-30 00:00:00.0002021-05-30 00:00:00.0002021-05-30 00:00:00.0002021-05-30 00:00:00.0002021-05-30 00:00:00.0002021-05-30 00:00:00.0002021-05-30 00:00:00.0002021-05-30 00:00:00.0002021-05-30 00:00:00.0002021-05-30 00:00:00.0002021-05-30 00:00:00.0002021-05-30 00:00:00.0002021-05-30 00:00:00.0002021-05-30 00:00:00.0002021-05-30 00:00:00.0002021-05-30 00:00:00.0002021-05-30 00:00:00.0002021-05-30 00:00:00.0002021-05-30 00:00:00.0002021-05-30 00:00:00.0002021-05-30 00:00:00.0002021-05-30 00:00:00.0002021-05-30 00:00:00.0002021-05-30 00:00:00.0002021-05-30 00:00:00.0002021-05-30 00:00:00.0002021-05-30 00:00:00.0002021-05-30 00:00:00.0002021-05-30 00:00:00.0002021-05-30 00:00:00.0002021-05-30 00:00:00.0002021-05-30 00:00:00.0002021-05-30 00:00:00.0002021-05-30 00:00:00.0002021-05-30 00:00:00.0002021-05-30 00:00:00.0002021-05-30 00:00:00.0002021-05-30 00:00:00.0002021-05-30 00:00:00.0002021-05-30 00:00:00.0002021-05-30 00:00:00.0002021-05-30 00:00:00.0002021-05-30 00:00:00.0002021-05-30 00:00:00.0002021-05-30 00:00:00.0002021-05-30 00:00:00.0002021-05-30 00:00:00.0002021-05-30 00:00:00.0002021-05-30 00:00:00.0002021-05-30 00:00:00.0002021-05-30 00:00:00.0002021-05-30 00:00:00.0002021-05-30 00:00:00.0002021-05-30 00:00:00.0002021-05-30 00:00:00.0002021-05-30 00:00:00.0002021-05-30 00:00:00.0002021-05-30 00:00:00.0002021-05-30 00:00:00.0002021-05-30 00:00:00.0002021-05-30 00:00:00.0002021-05-30 00:00:00.0002021-05-30 00:00:00.0002021-05-30 00:00:00.0002021-05-30 00:00:00.0002021-05-30 00:00:00.0002021-05-30 00:00:00.0002021-05-30 00:00:00.000 to numeric"
     ]
    },
    {
     "data": {
      "image/png": "[encoded data removed]",
      "text/plain": [
       "<Figure size 360x360 with 1 Axes>"
      ]
     },
     "metadata": {
      "needs_background": "light"
     },
     "output_type": "display_data"
    }
   ],
   "source": [
    "g=sns.lmplot(x='distancia', y='__dt',data=df,palette='distancia')"
   ]
  },
  {
   "cell_type": "code",
   "execution_count": null,
   "metadata": {},
   "outputs": [],
   "source": []
  }
 ],
 "metadata": {
  "kernelspec": {
   "display_name": "Python 3",
   "language": "python",
   "name": "python3"
  },
  "language_info": {
   "codemirror_mode": {
    "name": "ipython",
    "version": 3
   },
   "file_extension": ".py",
   "mimetype": "text/x-python",
   "name": "python",
   "nbconvert_exporter": "python",
   "pygments_lexer": "ipython3",
   "version": "3.8.5"
  }
 },
 "nbformat": 4,
 "nbformat_minor": 4
}
